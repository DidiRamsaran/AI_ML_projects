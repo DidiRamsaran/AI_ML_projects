{
  "nbformat": 4,
  "nbformat_minor": 0,
  "metadata": {
    "colab": {
      "provenance": [],
      "include_colab_link": true
    },
    "kernelspec": {
      "name": "python3",
      "display_name": "Python 3"
    },
    "language_info": {
      "name": "python"
    }
  },
  "cells": [
    {
      "cell_type": "markdown",
      "metadata": {
        "id": "view-in-github",
        "colab_type": "text"
      },
      "source": [
        "<a href=\"https://colab.research.google.com/github/DidiRamsaran/AI_ML_projects/blob/main/ReinforcementLearning_Practicum_ML.ipynb\" target=\"_parent\"><img src=\"https://colab.research.google.com/assets/colab-badge.svg\" alt=\"Open In Colab\"/></a>"
      ]
    },
    {
      "cell_type": "markdown",
      "source": [
        "# Solution to a labertinh with reinforcement learning\n",
        "\n",
        "Inteligencia artificial: aprendizaje automatico (2024).\n",
        "\n",
        "P. Garcia\n",
        "\n",
        "##Team members:\n",
        "1. Didi Ramsaran-Chin\n",
        "2. Victor Pietrini\n",
        "3. Kevin Fernández\n",
        "4. Luis Fernando Días"
      ],
      "metadata": {
        "id": "h-FIdcm34o8m"
      }
    },
    {
      "cell_type": "code",
      "source": [
        "# Librerias\n",
        "import numpy as np\n",
        "import networkx as nx\n",
        "import graphviz as Graph\n",
        "import matplotlib.pyplot as plt\n",
        "import random\n",
        "\n",
        "from dijkstar import Graph, find_path"
      ],
      "metadata": {
        "id": "sfxUfHm75X3o"
      },
      "execution_count": null,
      "outputs": []
    },
    {
      "cell_type": "markdown",
      "source": [
        "## Matriz de recompenzas (R)"
      ],
      "metadata": {
        "id": "RCnwebM35aeP"
      }
    },
    {
      "cell_type": "code",
      "source": [
        "R = np.matrix([[-1,-1,-1,-1,0,-1],\n",
        "\t\t\t\t\t\t\t [-1,-1,-1,0,-1,100],\n",
        "\t\t \t\t\t\t\t [-1,-1,-1,0,-1,-1],\n",
        "\t\t\t\t\t\t\t [-1,0,0,-1,0,-1],\n",
        "\t\t\t\t\t\t\t [-1,0,0,-1,-1,100],\n",
        "\t\t\t\t\t\t\t [-1,0,-1,-1,0,100]])"
      ],
      "metadata": {
        "id": "HNxmJTZd4qIl",
        "colab": {
          "base_uri": "https://localhost:8080/",
          "height": 55
        },
        "outputId": "9d061362-b8fc-402b-ba5b-f906ea904c62"
      },
      "execution_count": null,
      "outputs": [
        {
          "output_type": "execute_result",
          "data": {
            "text/plain": [
              "'\\nrandom.lenght = random.randint(4, 21)\\nR = np.full((random.lenght, random.lenght, -1))\\n\\nrl = randon.randint(0, random.lenght)\\nR[0,rl]= 100\\n\\n'"
            ],
            "application/vnd.google.colaboratory.intrinsic+json": {
              "type": "string"
            }
          },
          "metadata": {},
          "execution_count": 40
        }
      ]
    },
    {
      "cell_type": "code",
      "source": [],
      "metadata": {
        "id": "0Q5P5UkgVV3i"
      },
      "execution_count": null,
      "outputs": []
    },
    {
      "cell_type": "markdown",
      "source": [
        "Visualización de matriz como red\n"
      ],
      "metadata": {
        "id": "3XL7F_IzUnsg"
      }
    },
    {
      "cell_type": "code",
      "source": [
        "G = nx.Graph()\n",
        "\n",
        "G.add_nodes_from([0, R.shape[1]-1])\n",
        "\n",
        "for column in range(R.shape[0]):\n",
        "  for i in range(R.shape[0]):\n",
        "    if R[i, column] == 0:\n",
        "      G.add_edge((i), (column))\n",
        "    elif R[i, column] == 100:\n",
        "      G.add_edge((i), (column))\n",
        "\n",
        "print(\"nodes are the following:\")\n",
        "print(G.nodes)\n",
        "print(\"edges between them are:\")\n",
        "print(G.edges)\n"
      ],
      "metadata": {
        "colab": {
          "base_uri": "https://localhost:8080/"
        },
        "id": "DJQj0EVQUmSN",
        "outputId": "159744a7-2dd0-4f5b-d43a-702d33ecdd7d"
      },
      "execution_count": null,
      "outputs": [
        {
          "output_type": "stream",
          "name": "stdout",
          "text": [
            "nodes are the following:\n",
            "[0, 5, 3, 1, 4, 2]\n",
            "edges between them are:\n",
            "[(0, 4), (5, 1), (5, 4), (5, 5), (3, 1), (3, 2), (3, 4), (1, 4), (4, 2)]\n"
          ]
        }
      ]
    },
    {
      "cell_type": "code",
      "source": [
        "options = {\n",
        "    'node_size': 1500,\n",
        "    'width': 2,\n",
        "}\n",
        "\n",
        "pos = nx.spring_layout(G)\n",
        "\n",
        "nx.draw(G, pos=pos, with_labels=True, font_weight='bold', **options)"
      ],
      "metadata": {
        "colab": {
          "base_uri": "https://localhost:8080/",
          "height": 536
        },
        "id": "_BwTBLpYzX0U",
        "outputId": "36a013c1-6525-4a87-9572-15b3fc2de08f"
      },
      "execution_count": null,
      "outputs": [
        {
          "output_type": "display_data",
          "data": {
            "text/plain": [
              "<Figure size 640x480 with 1 Axes>"
            ],
            "image/png": "[encoded data removed]"
          },
          "metadata": {}
        }
      ]
    },
    {
      "cell_type": "markdown",
      "source": [
        "# Matriz de calidad de las acciones (Q)"
      ],
      "metadata": {
        "id": "hhA2mFeo5wP4"
      }
    },
    {
      "cell_type": "code",
      "source": [
        "Q = np.matrix(np.zeros([6,6]))"
      ],
      "metadata": {
        "id": "q3amwcus5odw"
      },
      "execution_count": null,
      "outputs": []
    },
    {
      "cell_type": "markdown",
      "source": [
        "## Funciones auxiliares"
      ],
      "metadata": {
        "id": "wbO8rPDL6TLz"
      }
    },
    {
      "cell_type": "code",
      "source": [
        "# Gamma (learning parameter).\n",
        "gamma = 0.8\n",
        "\n",
        "# Initial state. (Usually to be chosen at random)\n",
        "initial_state = 1\n",
        "\n",
        "# This function returns all available actions in the state given as an argument\n",
        "def available_actions(state):\n",
        "    current_state_row = R[state,]\n",
        "    av_act = np.where(current_state_row >= 0)[1]\n",
        "    return av_act\n",
        "\n",
        "# Get available actions in the current state\n",
        "available_act = available_actions(initial_state)\n",
        "\n",
        "# This function chooses at random which action to be performed within the range\n",
        "# of all the available actions.\n",
        "def sample_next_action(available_actions_range):\n",
        "    next_action = int(np.random.choice(available_act,1))\n",
        "    return next_action\n",
        "\n",
        "# Sample next action to be performed\n",
        "action = sample_next_action(available_act)\n",
        "\n",
        "# This function updates the Q matrix according to the path selected and the Q\n",
        "# learning algorithm\n",
        "def update(current_state, action, gamma):\n",
        "\n",
        "    max_index = np.where(Q[action,] == np.max(Q[action,]))[1]\n",
        "\n",
        "    if max_index.shape[0] > 1:\n",
        "        max_index = int(np.random.choice(max_index, size = 1))\n",
        "    else:\n",
        "        max_index = int(max_index)\n",
        "    max_value = Q[action, max_index]\n",
        "\n",
        "    # Q learning formula\n",
        "    Q[current_state, action] = R[current_state, action] + gamma * max_value\n",
        "\n",
        "# Update Q matrix\n",
        "update(initial_state,action,gamma)\n",
        "\n"
      ],
      "metadata": {
        "colab": {
          "base_uri": "https://localhost:8080/"
        },
        "id": "uGlAEp1v6MqE",
        "outputId": "c522af64-e803-4361-aa04-3cee276ef1b9"
      },
      "execution_count": null,
      "outputs": [
        {
          "output_type": "stream",
          "name": "stderr",
          "text": [
            "<ipython-input-44-224e507c3e97>:19: DeprecationWarning: Conversion of an array with ndim > 0 to a scalar is deprecated, and will error in future. Ensure you extract a single element from your array before performing this operation. (Deprecated NumPy 1.25.)\n",
            "  next_action = int(np.random.choice(available_act,1))\n",
            "<ipython-input-44-224e507c3e97>:32: DeprecationWarning: Conversion of an array with ndim > 0 to a scalar is deprecated, and will error in future. Ensure you extract a single element from your array before performing this operation. (Deprecated NumPy 1.25.)\n",
            "  max_index = int(np.random.choice(max_index, size = 1))\n"
          ]
        }
      ]
    },
    {
      "cell_type": "markdown",
      "source": [
        "## Training"
      ],
      "metadata": {
        "id": "qMbzK7oQ6sCc"
      }
    },
    {
      "cell_type": "code",
      "source": [
        "# Train over 10 000 iterations. (Re-iterate the process above).\n",
        "for i in range(10000):\n",
        "    current_state = np.random.randint(0, int(Q.shape[0]))\n",
        "    available_act = available_actions(current_state)\n",
        "    action = sample_next_action(available_act)\n",
        "    update(current_state,action,gamma)\n",
        "\n",
        "# Normalize the \"trained\" Q matrix\n",
        "print(\"Trained Q matrix:\")\n",
        "print(Q/np.max(Q)*100)\n",
        "\n",
        "\n"
      ],
      "metadata": {
        "colab": {
          "base_uri": "https://localhost:8080/"
        },
        "id": "r6SOz-r16i7U",
        "outputId": "b8104ead-720f-4036-ef6d-de676b84c45e"
      },
      "execution_count": null,
      "outputs": [
        {
          "output_type": "stream",
          "name": "stderr",
          "text": [
            "<ipython-input-44-224e507c3e97>:19: DeprecationWarning: Conversion of an array with ndim > 0 to a scalar is deprecated, and will error in future. Ensure you extract a single element from your array before performing this operation. (Deprecated NumPy 1.25.)\n",
            "  next_action = int(np.random.choice(available_act,1))\n",
            "<ipython-input-44-224e507c3e97>:32: DeprecationWarning: Conversion of an array with ndim > 0 to a scalar is deprecated, and will error in future. Ensure you extract a single element from your array before performing this operation. (Deprecated NumPy 1.25.)\n",
            "  max_index = int(np.random.choice(max_index, size = 1))\n",
            "<ipython-input-44-224e507c3e97>:34: DeprecationWarning: Conversion of an array with ndim > 0 to a scalar is deprecated, and will error in future. Ensure you extract a single element from your array before performing this operation. (Deprecated NumPy 1.25.)\n",
            "  max_index = int(max_index)\n"
          ]
        },
        {
          "output_type": "stream",
          "name": "stdout",
          "text": [
            "Trained Q matrix:\n",
            "[[  0.    0.    0.    0.   80.    0. ]\n",
            " [  0.    0.    0.   64.    0.  100. ]\n",
            " [  0.    0.    0.   64.    0.    0. ]\n",
            " [  0.   80.   51.2   0.   80.    0. ]\n",
            " [  0.   80.   51.2   0.    0.  100. ]\n",
            " [  0.   80.    0.    0.   80.  100. ]]\n"
          ]
        }
      ]
    },
    {
      "cell_type": "markdown",
      "source": [
        "## Testing"
      ],
      "metadata": {
        "id": "94lr7CBh6qe1"
      }
    },
    {
      "cell_type": "code",
      "source": [
        "# Goal state = 5\n",
        "# Best sequence path starting from 2 -> 2, 3, 1, 5\n",
        "\n",
        "current_state = 2\n",
        "steps = [current_state]\n",
        "\n",
        "while current_state != 5:\n",
        "\n",
        "    next_step_index = np.where(Q[current_state,] == np.max(Q[current_state,]))[1]\n",
        "\n",
        "    if next_step_index.shape[0] > 1:\n",
        "        next_step_index = int(np.random.choice(next_step_index, size = 1))\n",
        "    else:\n",
        "        next_step_index = int(next_step_index)\n",
        "\n",
        "    steps.append(next_step_index)\n",
        "    current_state = next_step_index\n",
        "\n",
        "# Print selected sequence of steps\n",
        "print(\"Selected path:\")\n",
        "print(steps)\n",
        "\n",
        "#-------------------------------------------------------------------------------\n",
        "#                               OUTPUT\n",
        "#-------------------------------------------------------------------------------\n",
        "#\n",
        "# Trained Q matrix:\n",
        "#[[   0.     0.     0.     0.    80.     0. ]\n",
        "# [   0.     0.     0.    64.     0.   100. ]\n",
        "# [   0.     0.     0.    64.     0.     0. ]\n",
        "# [   0.    80.    51.2    0.    80.     0. ]\n",
        "# [   0.    80.    51.2    0.     0.   100. ]\n",
        "# [   0.    80.     0.     0.    80.   100. ]]\n",
        "#\n",
        "# Selected path:\n",
        "# [2, 3, 1, 5]\n",
        "#"
      ],
      "metadata": {
        "colab": {
          "base_uri": "https://localhost:8080/"
        },
        "id": "ppFqSzxu5kPH",
        "outputId": "34667bde-5683-47fb-c7c6-f87410a2ca71"
      },
      "execution_count": null,
      "outputs": [
        {
          "output_type": "stream",
          "name": "stdout",
          "text": [
            "Selected path:\n",
            "[2, 3, 1, 5]\n"
          ]
        },
        {
          "output_type": "stream",
          "name": "stderr",
          "text": [
            "<ipython-input-46-e315c76f3285>:14: DeprecationWarning: Conversion of an array with ndim > 0 to a scalar is deprecated, and will error in future. Ensure you extract a single element from your array before performing this operation. (Deprecated NumPy 1.25.)\n",
            "  next_step_index = int(next_step_index)\n",
            "<ipython-input-46-e315c76f3285>:12: DeprecationWarning: Conversion of an array with ndim > 0 to a scalar is deprecated, and will error in future. Ensure you extract a single element from your array before performing this operation. (Deprecated NumPy 1.25.)\n",
            "  next_step_index = int(np.random.choice(next_step_index, size = 1))\n"
          ]
        }
      ]
    },
    {
      "cell_type": "markdown",
      "source": [
        "graficación del camino tomado"
      ],
      "metadata": {
        "id": "9YG7bMHr1Nms"
      }
    },
    {
      "cell_type": "code",
      "source": [
        "# steps1 = [x + 1 for x in steps]\n",
        "\n",
        "\n",
        "\n",
        "route_edges = [(steps[n],steps[n+1]) for n in range(len(steps)-1)]\n",
        "G.add_nodes_from(steps)\n",
        "G.add_edges_from(route_edges)\n",
        "\n",
        "\n",
        "print(route_edges)\n",
        "\n",
        "#path_edges = list(zip(steps[:-1], steps[1:]))\n",
        "#print(path_edges)\n",
        "\n",
        "options = {\n",
        "    'node_size': 1500,\n",
        "    'width': 2,\n",
        "}\n",
        "\n",
        "pos = nx.spring_layout(G)\n",
        "\n",
        "nx.draw(G, pos=pos, with_labels=True, font_weight='bold', **options)\n",
        "\n",
        "path_color = 'red'\n",
        "nx.draw_networkx_edges(G, pos=pos, edgelist=route_edges, edge_color=path_color, **options)\n",
        "\n",
        "#nx.draw_networkx_edges(G,pos=pos,edgelist=edgelist,edge_color = colors[ctr], width=linewidths[ctr])\n"
      ],
      "metadata": {
        "colab": {
          "base_uri": "https://localhost:8080/",
          "height": 571
        },
        "id": "TK4VGYP61Ms2",
        "outputId": "208f6084-5588-4a93-93e8-9d9e045e35a1"
      },
      "execution_count": null,
      "outputs": [
        {
          "output_type": "stream",
          "name": "stdout",
          "text": [
            "[(2, 3), (3, 1), (1, 5)]\n"
          ]
        },
        {
          "output_type": "execute_result",
          "data": {
            "text/plain": [
              "<matplotlib.collections.LineCollection at 0x79a144170370>"
            ]
          },
          "metadata": {},
          "execution_count": 47
        },
        {
          "output_type": "display_data",
          "data": {
            "text/plain": [
              "<Figure size 640x480 with 1 Axes>"
            ],
            "image/png": "[encoded data removed]"
          },
          "metadata": {}
        }
      ]
    },
    {
      "cell_type": "markdown",
      "source": [
        "Algoritmo de Dijkstra"
      ],
      "metadata": {
        "id": "ts5HWzbCRiO7"
      }
    },
    {
      "cell_type": "code",
      "source": [
        "# Se instala la librería de dijkstra\n",
        "!pip install Dijkstar\n"
      ],
      "metadata": {
        "id": "XnuJ3i_pZPxc",
        "colab": {
          "base_uri": "https://localhost:8080/"
        },
        "outputId": "acdda442-8a47-4810-d494-dce21180d1a6"
      },
      "execution_count": null,
      "outputs": [
        {
          "output_type": "stream",
          "name": "stdout",
          "text": [
            "Requirement already satisfied: Dijkstar in /usr/local/lib/python3.10/dist-packages (2.6.0)\n",
            "Requirement already satisfied: six in /usr/local/lib/python3.10/dist-packages (from Dijkstar) (1.16.0)\n"
          ]
        }
      ]
    },
    {
      "cell_type": "code",
      "source": [
        "# Se crea un grafo semejante al anteriormente realizado\n",
        "\n",
        "grafo = Graph()\n",
        "grafo.add_edge(0, 4, 1)\n",
        "grafo.add_edge(4, 0, 1)\n",
        "grafo.add_edge(4, 5, 1)\n",
        "grafo.add_edge(5, 4, 1)\n",
        "grafo.add_edge(4, 1, 1)\n",
        "grafo.add_edge(1, 4, 1)\n",
        "grafo.add_edge(4, 3, 1)\n",
        "grafo.add_edge(3, 4, 1)\n",
        "grafo.add_edge(4, 2, 1)\n",
        "grafo.add_edge(2, 4, 1)\n",
        "grafo.add_edge(5, 1, 1)\n",
        "grafo.add_edge(1, 5, 1)\n",
        "grafo.add_edge(1, 3, 1)\n",
        "grafo.add_edge(3, 1, 1)\n",
        "grafo.add_edge(3, 2, 1)\n",
        "grafo.add_edge(2, 3, 1)\n"
      ],
      "metadata": {
        "colab": {
          "base_uri": "https://localhost:8080/"
        },
        "id": "oOWjoQ_CdDlA",
        "outputId": "72b5a7a9-5379-4082-b0f5-3f6ccf66ebe8"
      },
      "execution_count": null,
      "outputs": [
        {
          "output_type": "execute_result",
          "data": {
            "text/plain": [
              "1"
            ]
          },
          "metadata": {},
          "execution_count": 50
        }
      ]
    },
    {
      "cell_type": "code",
      "source": [
        "# Se toma el mismo punto de partida que en el test, es decir, el nodo número 2. El nodo de llegada es el 5.\n",
        "# Se llama a la función\n",
        "camino = find_path(grafo, 2, 5)\n",
        "print(\"Ruta tomada por el algoritmo = \",camino.nodes)\n",
        "print(\"Costo total de la ruta = \",camino.total_cost)"
      ],
      "metadata": {
        "colab": {
          "base_uri": "https://localhost:8080/"
        },
        "id": "fjHoYnU0fBli",
        "outputId": "f4fe0a08-d4ea-4c12-c229-4e348b1a2762"
      },
      "execution_count": null,
      "outputs": [
        {
          "output_type": "stream",
          "name": "stdout",
          "text": [
            "Ruta tomada por el algoritmo =  [2, 4, 5]\n",
            "Costo total de la ruta =  2\n"
          ]
        }
      ]
    },
    {
      "cell_type": "markdown",
      "source": [
        "Como puede observarse. La solución que proporciona esta implementación del algoritmo de Dijkstra sigue siendo menos costosa. Pues encuentra un recorrido más corto hasta el Nodo 5."
      ],
      "metadata": {
        "id": "DUOUOpYfkMLd"
      }
    }
  ]
}