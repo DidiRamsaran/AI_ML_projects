{
  "nbformat": 4,
  "nbformat_minor": 0,
  "metadata": {
    "colab": {
      "provenance": [],
      "include_colab_link": true
    },
    "kernelspec": {
      "name": "python3",
      "display_name": "Python 3"
    },
    "language_info": {
      "name": "python"
    }
  },
  "cells": [
    {
      "cell_type": "markdown",
      "metadata": {
        "id": "view-in-github",
        "colab_type": "text"
      },
      "source": [
        "<a href=\"https://colab.research.google.com/github/DidiRamsaran/AI_ML_projects/blob/main/NLPTextClassifier_Project_ML.ipynb\" target=\"_parent\"><img src=\"https://colab.research.google.com/assets/colab-badge.svg\" alt=\"Open In Colab\"/></a>"
      ]
    },
    {
      "cell_type": "markdown",
      "source": [
        "# Project 2 — text classifier (EMOTIONS)"
      ],
      "metadata": {
        "id": "FCpT5oje91aD"
      }
    },
    {
      "cell_type": "code",
      "source": [
        "from google.colab import drive\n",
        "drive.mount('/content/drive')"
      ],
      "metadata": {
        "colab": {
          "base_uri": "https://localhost:8080/"
        },
        "id": "vbfj2RHQyqAh",
        "outputId": "bd32e5cf-0d69-4938-eb27-a635e4284e40"
      },
      "execution_count": null,
      "outputs": [
        {
          "output_type": "stream",
          "name": "stdout",
          "text": [
            "Mounted at /content/drive\n"
          ]
        }
      ]
    },
    {
      "cell_type": "markdown",
      "source": [
        "This code corrisponds to a Natural Language Processing Model (NLP), for analysing tweets with depressive characteristics and random tweets. With this data, we propose to create a model for binary classification into two categories: Depressive and Non-Depressive tweets.\n",
        "\n",
        "**Team Members:**\n",
        "\n",
        "* Didi Ramsaran Chin\n",
        "* Victor Manuel Pietrini Fermín\n",
        "* Luis Fernando Díaz\n",
        "* Kevin Fernández"
      ],
      "metadata": {
        "id": "oaO7qF9f-dJ6"
      }
    },
    {
      "cell_type": "markdown",
      "source": [
        "## Dependencias y versión de TensorFlow\n",
        "---"
      ],
      "metadata": {
        "id": "ok28FgJL_mMl"
      }
    },
    {
      "cell_type": "code",
      "source": [
        "# DEPENDENCIAS\n",
        "import matplotlib.pyplot as plt\n",
        "import os\n",
        "import re\n",
        "import shutil\n",
        "import string\n",
        "import tensorflow as tf\n",
        "\n",
        "from keras import layers, losses\n",
        "from google.colab import files\n",
        "\n",
        "\n",
        "\n",
        "# VERSIÓN TENSORFLOW\n",
        "print(\"TensorFlow ver. \" + tf.__version__)"
      ],
      "metadata": {
        "colab": {
          "base_uri": "https://localhost:8080/"
        },
        "id": "zLu3WMdp_vYS",
        "outputId": "17e6e742-0629-4628-d401-585185a7f5d6"
      },
      "execution_count": null,
      "outputs": [
        {
          "output_type": "stream",
          "name": "stdout",
          "text": [
            "TensorFlow ver. 2.15.0\n"
          ]
        }
      ]
    },
    {
      "cell_type": "markdown",
      "source": [
        "## Otras librerías"
      ],
      "metadata": {
        "id": "nawWEjgHcLXm"
      }
    },
    {
      "cell_type": "code",
      "source": [
        "import warnings\n",
        "warnings.filterwarnings(\"ignore\")\n",
        "import matplotlib.pyplot as plt\n",
        "import pandas as pd\n",
        "from sklearn.metrics import  classification_report, confusion_matrix, accuracy_score\n",
        "from gensim.models import KeyedVectors\n",
        "import re # regular expresión, se usa en la expansión de contracciones\n",
        "from math import exp\n",
        "\n",
        "import numpy as np\n",
        "from numpy import sign\n",
        "\n",
        "import nltk # Natural language toolkit,\n",
        "from nltk.corpus import stopwords # usado en la eliminación de conectores\n",
        "from nltk import PorterStemmer\n",
        "\n",
        "\n",
        "from keras.models import Model, Sequential\n",
        "from keras.callbacks import EarlyStopping, ModelCheckpoint\n",
        "from keras.layers import Conv1D, Dense, Input, LSTM, Embedding, Dropout, Activation, MaxPooling1D\n",
        "from keras.preprocessing.text import Tokenizer\n",
        "from keras.preprocessing.sequence import pad_sequences\n",
        "from keras.utils import plot_model\n"
      ],
      "metadata": {
        "id": "AHV2HTzGcJRh"
      },
      "execution_count": null,
      "outputs": []
    },
    {
      "cell_type": "code",
      "source": [
        "from sklearn.model_selection import train_test_split"
      ],
      "metadata": {
        "id": "o8yfrcQYuF1u"
      },
      "execution_count": null,
      "outputs": []
    },
    {
      "cell_type": "code",
      "source": [
        "!pip3 install ftfy"
      ],
      "metadata": {
        "colab": {
          "base_uri": "https://localhost:8080/"
        },
        "id": "OrBCpwkeJWNt",
        "outputId": "331feab3-9ca7-4a3c-bb25-1ae97f15e0ba"
      },
      "execution_count": null,
      "outputs": [
        {
          "output_type": "stream",
          "name": "stdout",
          "text": [
            "Collecting ftfy\n",
            "  Downloading ftfy-6.2.0-py3-none-any.whl (54 kB)\n",
            "\u001b[2K     \u001b[90m━━━━━━━━━━━━━━━━━━━━━━━━━━━━━━━━━━━━━━━━\u001b[0m \u001b[32m54.4/54.4 kB\u001b[0m \u001b[31m1.6 MB/s\u001b[0m eta \u001b[36m0:00:00\u001b[0m\n",
            "\u001b[?25hRequirement already satisfied: wcwidth<0.3.0,>=0.2.12 in /usr/local/lib/python3.10/dist-packages (from ftfy) (0.2.13)\n",
            "Installing collected packages: ftfy\n",
            "Successfully installed ftfy-6.2.0\n"
          ]
        }
      ]
    },
    {
      "cell_type": "code",
      "source": [
        "import ftfy as ftfy"
      ],
      "metadata": {
        "id": "3R4lK85tJqb8"
      },
      "execution_count": null,
      "outputs": []
    },
    {
      "cell_type": "markdown",
      "source": [
        "## Descarga, Extracción y Preparación de datos\n",
        "---"
      ],
      "metadata": {
        "id": "0Hfq96RgAUt0"
      }
    },
    {
      "cell_type": "markdown",
      "source": [
        "Se definen algunos parmetros previo a la carga de datos"
      ],
      "metadata": {
        "id": "nLVVSrWWFdB8"
      }
    },
    {
      "cell_type": "code",
      "source": [
        "DEPRES_NROWS = 3200  # número de filas a extraer del data set DEPRESSIVE_TWEETS_CSV\n",
        "RANDOM_NROWS = 4800 # número de filas a extraer del data set RANDOM_TWEETS_CSV.\n",
        "MAX_SEQUENCE_LENGTH = 140 # max tweet size\n",
        "MAX_NB_WORDS = 20000\n",
        "EMBEDDING_DIM = 300\n",
        "LEARNING_RATE = 0.1\n",
        "EPOCHS= 10\n"
      ],
      "metadata": {
        "id": "4xS92R1gU8v1"
      },
      "execution_count": null,
      "outputs": []
    },
    {
      "cell_type": "code",
      "source": [
        "np.random.seed(2505)\n",
        "\n",
        "# se descarga el conjunto de tweets depresivos\n",
        "df = '/content/drive/MyDrive/depressive_tweets_processed_transformed.csv'\n",
        "\n",
        "# data set de tweets random\n",
        "RANDOM_TWEETS_CSV = '/content/drive/MyDrive/random_tweets_processed_transformed.csv'\n",
        "\n",
        "depressive_tweets_df = pd.read_csv(df, sep = '|', header = 0, usecols = [\"Tweet\",\"Target\"], nrows = DEPRES_NROWS)\n",
        "random_tweets_df = pd.read_csv(RANDOM_TWEETS_CSV, sep = ',', header = 0 ,usecols = [\"Tweet\",\"Target\"], nrows = RANDOM_NROWS)\n",
        "#Embedding_file is the file which taken from this link https://drive.google.com/uc?id=0B7XkCwpI5KDYNlNUTTlSS21pQmM&export=download\n",
        "EMBEDDING_FILE = '/content/drive/MyDrive/GoogleNews-vectors-negative300.bin.gz'\n",
        "\n",
        "word2vec = KeyedVectors.load_word2vec_format(EMBEDDING_FILE, binary=True)\n"
      ],
      "metadata": {
        "id": "EGNefN5KCgw6"
      },
      "execution_count": null,
      "outputs": []
    },
    {
      "cell_type": "code",
      "source": [
        "print (depressive_tweets_df.head())"
      ],
      "metadata": {
        "colab": {
          "base_uri": "https://localhost:8080/"
        },
        "id": "FwT-KVEOPBgH",
        "outputId": "c15f482e-b6bd-4743-dca6-7ed5125e0d26"
      },
      "execution_count": null,
      "outputs": [
        {
          "output_type": "stream",
          "name": "stdout",
          "text": [
            "                                               Tweet  Target\n",
            "0  The lack of this understanding is a small but ...       1\n",
            "1  i just told my parents about my depression and...       1\n",
            "2  depression is something i don't speak about ev...       1\n",
            "3  Made myself a tortilla filled with pb&j. My de...       1\n",
            "4  @WorldofOutlaws I am gonna need depression med...       1\n"
          ]
        }
      ]
    },
    {
      "cell_type": "code",
      "source": [
        "print (random_tweets_df.head())"
      ],
      "metadata": {
        "colab": {
          "base_uri": "https://localhost:8080/"
        },
        "id": "IDrEyN8DPC_P",
        "outputId": "0555473c-22ab-4b7e-8b1e-ad677de874b6"
      },
      "execution_count": null,
      "outputs": [
        {
          "output_type": "stream",
          "name": "stdout",
          "text": [
            "                                               Tweet  Target\n",
            "0                       is so sad for my APL frie...       0\n",
            "1                     I missed the New Moon trail...       0\n",
            "2                            omg its already 7:30 :O       0\n",
            "3            .. Omgaga. Im sooo  im gunna CRy. I'...       0\n",
            "4           i think mi bf is cheating on me!!!   ...       0\n"
          ]
        }
      ]
    },
    {
      "cell_type": "code",
      "source": [
        "# en la lista de tweets, existen contracciones propias del inglés que se deben deshacer, por tanto\n",
        "\n",
        "cList = {\n",
        "  \"ain't\": \"am not\",\n",
        "  \"aren't\": \"are not\",\n",
        "  \"can't\": \"cannot\",\n",
        "  \"can't've\": \"cannot have\",\n",
        "  \"'cause\": \"because\",\n",
        "  \"could've\": \"could have\",\n",
        "  \"couldn't\": \"could not\",\n",
        "  \"couldn't've\": \"could not have\",\n",
        "  \"didn't\": \"did not\",\n",
        "  \"doesn't\": \"does not\",\n",
        "  \"don't\": \"do not\",\n",
        "  \"hadn't\": \"had not\",\n",
        "  \"hadn't've\": \"had not have\",\n",
        "  \"hasn't\": \"has not\",\n",
        "  \"haven't\": \"have not\",\n",
        "  \"he'd\": \"he would\",\n",
        "  \"he'd've\": \"he would have\",\n",
        "  \"he'll\": \"he will\",\n",
        "  \"he'll've\": \"he will have\",\n",
        "  \"he's\": \"he is\",\n",
        "  \"how'd\": \"how did\",\n",
        "  \"how'd'y\": \"how do you\",\n",
        "  \"how'll\": \"how will\",\n",
        "  \"how's\": \"how is\",\n",
        "  \"I'd\": \"I would\",\n",
        "  \"I'd've\": \"I would have\",\n",
        "  \"I'll\": \"I will\",\n",
        "  \"I'll've\": \"I will have\",\n",
        "  \"I'm\": \"I am\",\n",
        "  \"I've\": \"I have\",\n",
        "  \"isn't\": \"is not\",\n",
        "  \"it'd\": \"it had\",\n",
        "  \"it'd've\": \"it would have\",\n",
        "  \"it'll\": \"it will\",\n",
        "  \"it'll've\": \"it will have\",\n",
        "  \"it's\": \"it is\",\n",
        "  \"let's\": \"let us\",\n",
        "  \"ma'am\": \"madam\",\n",
        "  \"mayn't\": \"may not\",\n",
        "  \"might've\": \"might have\",\n",
        "  \"mightn't\": \"might not\",\n",
        "  \"mightn't've\": \"might not have\",\n",
        "  \"must've\": \"must have\",\n",
        "  \"mustn't\": \"must not\",\n",
        "  \"mustn't've\": \"must not have\",\n",
        "  \"needn't\": \"need not\",\n",
        "  \"needn't've\": \"need not have\",\n",
        "  \"o'clock\": \"of the clock\",\n",
        "  \"oughtn't\": \"ought not\",\n",
        "  \"oughtn't've\": \"ought not have\",\n",
        "  \"shan't\": \"shall not\",\n",
        "  \"sha'n't\": \"shall not\",\n",
        "  \"shan't've\": \"shall not have\",\n",
        "  \"she'd\": \"she would\",\n",
        "  \"she'd've\": \"she would have\",\n",
        "  \"she'll\": \"she will\",\n",
        "  \"she'll've\": \"she will have\",\n",
        "  \"she's\": \"she is\",\n",
        "  \"should've\": \"should have\",\n",
        "  \"shouldn't\": \"should not\",\n",
        "  \"shouldn't've\": \"should not have\",\n",
        "  \"so've\": \"so have\",\n",
        "  \"so's\": \"so is\",\n",
        "  \"that'd\": \"that would\",\n",
        "  \"that'd've\": \"that would have\",\n",
        "  \"that's\": \"that is\",\n",
        "  \"there'd\": \"there had\",\n",
        "  \"there'd've\": \"there would have\",\n",
        "  \"there's\": \"there is\",\n",
        "  \"they'd\": \"they would\",\n",
        "  \"they'd've\": \"they would have\",\n",
        "  \"they'll\": \"they will\",\n",
        "  \"they'll've\": \"they will have\",\n",
        "  \"they're\": \"they are\",\n",
        "  \"they've\": \"they have\",\n",
        "  \"to've\": \"to have\",\n",
        "  \"wasn't\": \"was not\",\n",
        "  \"we'd\": \"we had\",\n",
        "  \"we'd've\": \"we would have\",\n",
        "  \"we'll\": \"we will\",\n",
        "  \"we'll've\": \"we will have\",\n",
        "  \"we're\": \"we are\",\n",
        "  \"we've\": \"we have\",\n",
        "  \"weren't\": \"were not\",\n",
        "  \"what'll\": \"what will\",\n",
        "  \"what'll've\": \"what will have\",\n",
        "  \"what're\": \"what are\",\n",
        "  \"what's\": \"what is\",\n",
        "  \"what've\": \"what have\",\n",
        "  \"when's\": \"when is\",\n",
        "  \"when've\": \"when have\",\n",
        "  \"where'd\": \"where did\",\n",
        "  \"where's\": \"where is\",\n",
        "  \"where've\": \"where have\",\n",
        "  \"who'll\": \"who will\",\n",
        "  \"who'll've\": \"who will have\",\n",
        "  \"who's\": \"who is\",\n",
        "  \"who've\": \"who have\",\n",
        "  \"why's\": \"why is\",\n",
        "  \"why've\": \"why have\",\n",
        "  \"will've\": \"will have\",\n",
        "  \"won't\": \"will not\",\n",
        "  \"won't've\": \"will not have\",\n",
        "  \"would've\": \"would have\",\n",
        "  \"wouldn't\": \"would not\",\n",
        "  \"wouldn't've\": \"would not have\",\n",
        "  \"y'all\": \"you all\",\n",
        "  \"y'alls\": \"you alls\",\n",
        "  \"y'all'd\": \"you all would\",\n",
        "  \"y'all'd've\": \"you all would have\",\n",
        "  \"y'all're\": \"you all are\",\n",
        "  \"y'all've\": \"you all have\",\n",
        "  \"you'd\": \"you had\",\n",
        "  \"you'd've\": \"you would have\",\n",
        "  \"you'll\": \"you you will\",\n",
        "  \"you'll've\": \"you you will have\",\n",
        "  \"you're\": \"you are\",\n",
        "  \"you've\": \"you have\"\n",
        "}\n",
        "\n",
        "c_re = re.compile('(%s)' % '|'.join(cList.keys()))\n",
        "\n",
        "# se define la función que toma los tweets y expande las contracciones\n",
        "def expandContractions(text, c_re=c_re):\n",
        "    def replace(match):\n",
        "        return cList[match.group(0)]\n",
        "    return c_re.sub(replace, text)\n",
        "\n",
        "\n",
        "# luego se define la función de limpieza de tweets\n",
        "def clean_tweets(tweets):\n",
        "    cleaned_tweets = []\n",
        "    for tweet in tweets:\n",
        "        # se tranforma en str\n",
        "        tweet = str(tweet)\n",
        "        # pueden haber links a revistas o artículos, por lo que se eliminan esos url\n",
        "        # se guarda el tweet con > 10 letras (la palabra depresión en inglés tiene esa cantidad de letras \"depression\")\n",
        "        if re.match(\"(\\w+:\\/\\/\\S+)\", tweet) == None and len(tweet) > 10:\n",
        "            # Se remueven #, @menciones, emojis y links de imágenes\n",
        "            tweet = ' '.join(\n",
        "                re.sub(\"(@[A-Za-z0-9]+)|(\\#[A-Za-z0-9]+)|(<Emoji:.*>)|(pic\\.twitter\\.com\\/.*)\", \" \", tweet).split())\n",
        "\n",
        "            # se arregla el tweet con codificación extraña\n",
        "            tweet = ftfy.fix_text(tweet)\n",
        "\n",
        "            # se emplea la función que deshace contracciones\n",
        "            tweet = expandContractions(tweet)\n",
        "\n",
        "            # se remueve puntuación, para facilitar el entrenamiento de la RN\n",
        "            tweet = ' '.join(re.sub(\"([^0-9A-Za-z \\t])\", \" \", tweet).split())\n",
        "\n",
        "            # Se guardan los conectores en inglés con la función stopwords (ej. the, a, an, in...)\n",
        "            # Creo que este objeto puede salir, para no guardar los conectores cada vez que s epricese un tweet\n",
        "            stop_words = set(stopwords.words('english'))\n",
        "            # tokenización del tweet\n",
        "            word_tokens = nltk.word_tokenize(tweet)\n",
        "            # se remueven los conectores en inglés del tweet\n",
        "            filtered_sentence = [w for w in word_tokens if not w in stop_words]\n",
        "            tweet = ' '.join(filtered_sentence)\n",
        "\n",
        "            # Se procede con ek stemming de las palabras de cada tweet\n",
        "            tweet = PorterStemmer().stem(tweet)\n",
        "\n",
        "            # Finalmente, se guarda el tweet en la lista cleanned_tweets\n",
        "            cleaned_tweets.append(tweet)\n",
        "\n",
        "    return cleaned_tweets\n"
      ],
      "metadata": {
        "id": "xGSqGI3GQuS0"
      },
      "execution_count": null,
      "outputs": []
    },
    {
      "cell_type": "code",
      "source": [
        "display(depressive_tweets_df)"
      ],
      "metadata": {
        "colab": {
          "base_uri": "https://localhost:8080/",
          "height": 444
        },
        "id": "bBNn54c1Ku_D",
        "outputId": "a9124e2e-a6c6-4463-c3bf-e15808833544"
      },
      "execution_count": null,
      "outputs": [
        {
          "output_type": "display_data",
          "data": {
            "text/plain": [
              "                                                  Tweet  Target\n",
              "0     The lack of this understanding is a small but ...       1\n",
              "1     i just told my parents about my depression and...       1\n",
              "2     depression is something i don't speak about ev...       1\n",
              "3     Made myself a tortilla filled with pb&j. My de...       1\n",
              "4     @WorldofOutlaws I am gonna need depression med...       1\n",
              "...                                                 ...     ...\n",
              "3195  Me: I can handle post-grad depression I'm alre...       1\n",
              "3196  Or maybe because she studied about depression....       1\n",
              "3197  just had treacle sponge<Emoji: Smiling face wi...       1\n",
              "3198  She took depression to Times. No offence, but ...       1\n",
              "3199  @edsheeran But also, she has problems with dep...       1\n",
              "\n",
              "[3200 rows x 2 columns]"
            ],
            "text/html": [
              "\n",
              "  <div id=\"df-42251ba5-05cc-4c74-bfaf-66fa81b4ed59\" class=\"colab-df-container\">\n",
              "    <div>\n",
              "<style scoped>\n",
              "    .dataframe tbody tr th:only-of-type {\n",
              "        vertical-align: middle;\n",
              "    }\n",
              "\n",
              "    .dataframe tbody tr th {\n",
              "        vertical-align: top;\n",
              "    }\n",
              "\n",
              "    .dataframe thead th {\n",
              "        text-align: right;\n",
              "    }\n",
              "</style>\n",
              "<table border=\"1\" class=\"dataframe\">\n",
              "  <thead>\n",
              "    <tr style=\"text-align: right;\">\n",
              "      <th></th>\n",
              "      <th>Tweet</th>\n",
              "      <th>Target</th>\n",
              "    </tr>\n",
              "  </thead>\n",
              "  <tbody>\n",
              "    <tr>\n",
              "      <th>0</th>\n",
              "      <td>The lack of this understanding is a small but ...</td>\n",
              "      <td>1</td>\n",
              "    </tr>\n",
              "    <tr>\n",
              "      <th>1</th>\n",
              "      <td>i just told my parents about my depression and...</td>\n",
              "      <td>1</td>\n",
              "    </tr>\n",
              "    <tr>\n",
              "      <th>2</th>\n",
              "      <td>depression is something i don't speak about ev...</td>\n",
              "      <td>1</td>\n",
              "    </tr>\n",
              "    <tr>\n",
              "      <th>3</th>\n",
              "      <td>Made myself a tortilla filled with pb&amp;j. My de...</td>\n",
              "      <td>1</td>\n",
              "    </tr>\n",
              "    <tr>\n",
              "      <th>4</th>\n",
              "      <td>@WorldofOutlaws I am gonna need depression med...</td>\n",
              "      <td>1</td>\n",
              "    </tr>\n",
              "    <tr>\n",
              "      <th>...</th>\n",
              "      <td>...</td>\n",
              "      <td>...</td>\n",
              "    </tr>\n",
              "    <tr>\n",
              "      <th>3195</th>\n",
              "      <td>Me: I can handle post-grad depression I'm alre...</td>\n",
              "      <td>1</td>\n",
              "    </tr>\n",
              "    <tr>\n",
              "      <th>3196</th>\n",
              "      <td>Or maybe because she studied about depression....</td>\n",
              "      <td>1</td>\n",
              "    </tr>\n",
              "    <tr>\n",
              "      <th>3197</th>\n",
              "      <td>just had treacle sponge&lt;Emoji: Smiling face wi...</td>\n",
              "      <td>1</td>\n",
              "    </tr>\n",
              "    <tr>\n",
              "      <th>3198</th>\n",
              "      <td>She took depression to Times. No offence, but ...</td>\n",
              "      <td>1</td>\n",
              "    </tr>\n",
              "    <tr>\n",
              "      <th>3199</th>\n",
              "      <td>@edsheeran But also, she has problems with dep...</td>\n",
              "      <td>1</td>\n",
              "    </tr>\n",
              "  </tbody>\n",
              "</table>\n",
              "<p>3200 rows × 2 columns</p>\n",
              "</div>\n",
              "    <div class=\"colab-df-buttons\">\n",
              "\n",
              "  <div class=\"colab-df-container\">\n",
              "    <button class=\"colab-df-convert\" onclick=\"convertToInteractive('df-42251ba5-05cc-4c74-bfaf-66fa81b4ed59')\"\n",
              "            title=\"Convert this dataframe to an interactive table.\"\n",
              "            style=\"display:none;\">\n",
              "\n",
              "  <svg xmlns=\"http://www.w3.org/2000/svg\" height=\"24px\" viewBox=\"0 -960 960 960\">\n",
              "    <path d=\"M120-120v-720h720v720H120Zm60-500h600v-160H180v160Zm220 220h160v-160H400v160Zm0 220h160v-160H400v160ZM180-400h160v-160H180v160Zm440 0h160v-160H620v160ZM180-180h160v-160H180v160Zm440 0h160v-160H620v160Z\"/>\n",
              "  </svg>\n",
              "    </button>\n",
              "\n",
              "  <style>\n",
              "    .colab-df-container {\n",
              "      display:flex;\n",
              "      gap: 12px;\n",
              "    }\n",
              "\n",
              "    .colab-df-convert {\n",
              "      background-color: #E8F0FE;\n",
              "      border: none;\n",
              "      border-radius: 50%;\n",
              "      cursor: pointer;\n",
              "      display: none;\n",
              "      fill: #1967D2;\n",
              "      height: 32px;\n",
              "      padding: 0 0 0 0;\n",
              "      width: 32px;\n",
              "    }\n",
              "\n",
              "    .colab-df-convert:hover {\n",
              "      background-color: #E2EBFA;\n",
              "      box-shadow: 0px 1px 2px rgba(60, 64, 67, 0.3), 0px 1px 3px 1px rgba(60, 64, 67, 0.15);\n",
              "      fill: #174EA6;\n",
              "    }\n",
              "\n",
              "    .colab-df-buttons div {\n",
              "      margin-bottom: 4px;\n",
              "    }\n",
              "\n",
              "    [theme=dark] .colab-df-convert {\n",
              "      background-color: #3B4455;\n",
              "      fill: #D2E3FC;\n",
              "    }\n",
              "\n",
              "    [theme=dark] .colab-df-convert:hover {\n",
              "      background-color: #434B5C;\n",
              "      box-shadow: 0px 1px 3px 1px rgba(0, 0, 0, 0.15);\n",
              "      filter: drop-shadow(0px 1px 2px rgba(0, 0, 0, 0.3));\n",
              "      fill: #FFFFFF;\n",
              "    }\n",
              "  </style>\n",
              "\n",
              "    <script>\n",
              "      const buttonEl =\n",
              "        document.querySelector('#df-42251ba5-05cc-4c74-bfaf-66fa81b4ed59 button.colab-df-convert');\n",
              "      buttonEl.style.display =\n",
              "        google.colab.kernel.accessAllowed ? 'block' : 'none';\n",
              "\n",
              "      async function convertToInteractive(key) {\n",
              "        const element = document.querySelector('#df-42251ba5-05cc-4c74-bfaf-66fa81b4ed59');\n",
              "        const dataTable =\n",
              "          await google.colab.kernel.invokeFunction('convertToInteractive',\n",
              "                                                    [key], {});\n",
              "        if (!dataTable) return;\n",
              "\n",
              "        const docLinkHtml = 'Like what you see? Visit the ' +\n",
              "          '<a target=\"_blank\" href=https://colab.research.google.com/notebooks/data_table.ipynb>data table notebook</a>'\n",
              "          + ' to learn more about interactive tables.';\n",
              "        element.innerHTML = '';\n",
              "        dataTable['output_type'] = 'display_data';\n",
              "        await google.colab.output.renderOutput(dataTable, element);\n",
              "        const docLink = document.createElement('div');\n",
              "        docLink.innerHTML = docLinkHtml;\n",
              "        element.appendChild(docLink);\n",
              "      }\n",
              "    </script>\n",
              "  </div>\n",
              "\n",
              "\n",
              "<div id=\"df-c14c4af2-c02e-47bb-9fb7-7fb245caebc1\">\n",
              "  <button class=\"colab-df-quickchart\" onclick=\"quickchart('df-c14c4af2-c02e-47bb-9fb7-7fb245caebc1')\"\n",
              "            title=\"Suggest charts\"\n",
              "            style=\"display:none;\">\n",
              "\n",
              "<svg xmlns=\"http://www.w3.org/2000/svg\" height=\"24px\"viewBox=\"0 0 24 24\"\n",
              "     width=\"24px\">\n",
              "    <g>\n",
              "        <path d=\"M19 3H5c-1.1 0-2 .9-2 2v14c0 1.1.9 2 2 2h14c1.1 0 2-.9 2-2V5c0-1.1-.9-2-2-2zM9 17H7v-7h2v7zm4 0h-2V7h2v10zm4 0h-2v-4h2v4z\"/>\n",
              "    </g>\n",
              "</svg>\n",
              "  </button>\n",
              "\n",
              "<style>\n",
              "  .colab-df-quickchart {\n",
              "      --bg-color: #E8F0FE;\n",
              "      --fill-color: #1967D2;\n",
              "      --hover-bg-color: #E2EBFA;\n",
              "      --hover-fill-color: #174EA6;\n",
              "      --disabled-fill-color: #AAA;\n",
              "      --disabled-bg-color: #DDD;\n",
              "  }\n",
              "\n",
              "  [theme=dark] .colab-df-quickchart {\n",
              "      --bg-color: #3B4455;\n",
              "      --fill-color: #D2E3FC;\n",
              "      --hover-bg-color: #434B5C;\n",
              "      --hover-fill-color: #FFFFFF;\n",
              "      --disabled-bg-color: #3B4455;\n",
              "      --disabled-fill-color: #666;\n",
              "  }\n",
              "\n",
              "  .colab-df-quickchart {\n",
              "    background-color: var(--bg-color);\n",
              "    border: none;\n",
              "    border-radius: 50%;\n",
              "    cursor: pointer;\n",
              "    display: none;\n",
              "    fill: var(--fill-color);\n",
              "    height: 32px;\n",
              "    padding: 0;\n",
              "    width: 32px;\n",
              "  }\n",
              "\n",
              "  .colab-df-quickchart:hover {\n",
              "    background-color: var(--hover-bg-color);\n",
              "    box-shadow: 0 1px 2px rgba(60, 64, 67, 0.3), 0 1px 3px 1px rgba(60, 64, 67, 0.15);\n",
              "    fill: var(--button-hover-fill-color);\n",
              "  }\n",
              "\n",
              "  .colab-df-quickchart-complete:disabled,\n",
              "  .colab-df-quickchart-complete:disabled:hover {\n",
              "    background-color: var(--disabled-bg-color);\n",
              "    fill: var(--disabled-fill-color);\n",
              "    box-shadow: none;\n",
              "  }\n",
              "\n",
              "  .colab-df-spinner {\n",
              "    border: 2px solid var(--fill-color);\n",
              "    border-color: transparent;\n",
              "    border-bottom-color: var(--fill-color);\n",
              "    animation:\n",
              "      spin 1s steps(1) infinite;\n",
              "  }\n",
              "\n",
              "  @keyframes spin {\n",
              "    0% {\n",
              "      border-color: transparent;\n",
              "      border-bottom-color: var(--fill-color);\n",
              "      border-left-color: var(--fill-color);\n",
              "    }\n",
              "    20% {\n",
              "      border-color: transparent;\n",
              "      border-left-color: var(--fill-color);\n",
              "      border-top-color: var(--fill-color);\n",
              "    }\n",
              "    30% {\n",
              "      border-color: transparent;\n",
              "      border-left-color: var(--fill-color);\n",
              "      border-top-color: var(--fill-color);\n",
              "      border-right-color: var(--fill-color);\n",
              "    }\n",
              "    40% {\n",
              "      border-color: transparent;\n",
              "      border-right-color: var(--fill-color);\n",
              "      border-top-color: var(--fill-color);\n",
              "    }\n",
              "    60% {\n",
              "      border-color: transparent;\n",
              "      border-right-color: var(--fill-color);\n",
              "    }\n",
              "    80% {\n",
              "      border-color: transparent;\n",
              "      border-right-color: var(--fill-color);\n",
              "      border-bottom-color: var(--fill-color);\n",
              "    }\n",
              "    90% {\n",
              "      border-color: transparent;\n",
              "      border-bottom-color: var(--fill-color);\n",
              "    }\n",
              "  }\n",
              "</style>\n",
              "\n",
              "  <script>\n",
              "    async function quickchart(key) {\n",
              "      const quickchartButtonEl =\n",
              "        document.querySelector('#' + key + ' button');\n",
              "      quickchartButtonEl.disabled = true;  // To prevent multiple clicks.\n",
              "      quickchartButtonEl.classList.add('colab-df-spinner');\n",
              "      try {\n",
              "        const charts = await google.colab.kernel.invokeFunction(\n",
              "            'suggestCharts', [key], {});\n",
              "      } catch (error) {\n",
              "        console.error('Error during call to suggestCharts:', error);\n",
              "      }\n",
              "      quickchartButtonEl.classList.remove('colab-df-spinner');\n",
              "      quickchartButtonEl.classList.add('colab-df-quickchart-complete');\n",
              "    }\n",
              "    (() => {\n",
              "      let quickchartButtonEl =\n",
              "        document.querySelector('#df-c14c4af2-c02e-47bb-9fb7-7fb245caebc1 button');\n",
              "      quickchartButtonEl.style.display =\n",
              "        google.colab.kernel.accessAllowed ? 'block' : 'none';\n",
              "    })();\n",
              "  </script>\n",
              "</div>\n",
              "    </div>\n",
              "  </div>\n"
            ],
            "application/vnd.google.colaboratory.intrinsic+json": {
              "type": "dataframe",
              "variable_name": "depressive_tweets_df",
              "summary": "{\n  \"name\": \"depressive_tweets_df\",\n  \"rows\": 3200,\n  \"fields\": [\n    {\n      \"column\": \"Tweet\",\n      \"properties\": {\n        \"dtype\": \"string\",\n        \"num_unique_values\": 3155,\n        \"samples\": [\n          \"i have awoken from my short depression hiatus                                                                                                                                                                                                                                                                                                                                                      \",\n          \"I added a video to a @YouTube playlist  http://youtu.be/y9gyyTMYAiQ?a\\u00a0 Depression and Bipolar Disorder - Cause and Solution - Part 1                                                                                                                                                                                                                                                              \",\n          \"@talfrb Because it stops .y depression                                                                                                                                                                                                                                                                                                                                                             \"\n        ],\n        \"semantic_type\": \"\",\n        \"description\": \"\"\n      }\n    },\n    {\n      \"column\": \"Target\",\n      \"properties\": {\n        \"dtype\": \"number\",\n        \"std\": 0,\n        \"min\": 1,\n        \"max\": 1,\n        \"num_unique_values\": 1,\n        \"samples\": [\n          1\n        ],\n        \"semantic_type\": \"\",\n        \"description\": \"\"\n      }\n    }\n  ]\n}"
            }
          },
          "metadata": {}
        }
      ]
    },
    {
      "cell_type": "code",
      "source": [
        "display(random_tweets_df)"
      ],
      "metadata": {
        "colab": {
          "base_uri": "https://localhost:8080/",
          "height": 444
        },
        "id": "WJT6OfWpPbK8",
        "outputId": "f9707292-515e-4641-f87f-23c7d6676855"
      },
      "execution_count": null,
      "outputs": [
        {
          "output_type": "display_data",
          "data": {
            "text/plain": [
              "                                                  Tweet  Target\n",
              "0                          is so sad for my APL frie...       0\n",
              "1                        I missed the New Moon trail...       0\n",
              "2                               omg its already 7:30 :O       0\n",
              "3               .. Omgaga. Im sooo  im gunna CRy. I'...       0\n",
              "4              i think mi bf is cheating on me!!!   ...       0\n",
              "...                                                 ...     ...\n",
              "4795  #dontyouhate the people that won't let you go ...       0\n",
              "4796  #dontyouhate to be in Love with someone that y...       0\n",
              "4797  #dontyouhate when a woman brags on the coochie...       0\n",
              "4798  #dontyouhate when drunk ppl r telling u a stor...       0\n",
              "4799  #dontyouhate when funny jokes are over-used an...       0\n",
              "\n",
              "[4800 rows x 2 columns]"
            ],
            "text/html": [
              "\n",
              "  <div id=\"df-04ed614e-3dae-4d2f-a7a7-46cdca995402\" class=\"colab-df-container\">\n",
              "    <div>\n",
              "<style scoped>\n",
              "    .dataframe tbody tr th:only-of-type {\n",
              "        vertical-align: middle;\n",
              "    }\n",
              "\n",
              "    .dataframe tbody tr th {\n",
              "        vertical-align: top;\n",
              "    }\n",
              "\n",
              "    .dataframe thead th {\n",
              "        text-align: right;\n",
              "    }\n",
              "</style>\n",
              "<table border=\"1\" class=\"dataframe\">\n",
              "  <thead>\n",
              "    <tr style=\"text-align: right;\">\n",
              "      <th></th>\n",
              "      <th>Tweet</th>\n",
              "      <th>Target</th>\n",
              "    </tr>\n",
              "  </thead>\n",
              "  <tbody>\n",
              "    <tr>\n",
              "      <th>0</th>\n",
              "      <td>is so sad for my APL frie...</td>\n",
              "      <td>0</td>\n",
              "    </tr>\n",
              "    <tr>\n",
              "      <th>1</th>\n",
              "      <td>I missed the New Moon trail...</td>\n",
              "      <td>0</td>\n",
              "    </tr>\n",
              "    <tr>\n",
              "      <th>2</th>\n",
              "      <td>omg its already 7:30 :O</td>\n",
              "      <td>0</td>\n",
              "    </tr>\n",
              "    <tr>\n",
              "      <th>3</th>\n",
              "      <td>.. Omgaga. Im sooo  im gunna CRy. I'...</td>\n",
              "      <td>0</td>\n",
              "    </tr>\n",
              "    <tr>\n",
              "      <th>4</th>\n",
              "      <td>i think mi bf is cheating on me!!!   ...</td>\n",
              "      <td>0</td>\n",
              "    </tr>\n",
              "    <tr>\n",
              "      <th>...</th>\n",
              "      <td>...</td>\n",
              "      <td>...</td>\n",
              "    </tr>\n",
              "    <tr>\n",
              "      <th>4795</th>\n",
              "      <td>#dontyouhate the people that won't let you go ...</td>\n",
              "      <td>0</td>\n",
              "    </tr>\n",
              "    <tr>\n",
              "      <th>4796</th>\n",
              "      <td>#dontyouhate to be in Love with someone that y...</td>\n",
              "      <td>0</td>\n",
              "    </tr>\n",
              "    <tr>\n",
              "      <th>4797</th>\n",
              "      <td>#dontyouhate when a woman brags on the coochie...</td>\n",
              "      <td>0</td>\n",
              "    </tr>\n",
              "    <tr>\n",
              "      <th>4798</th>\n",
              "      <td>#dontyouhate when drunk ppl r telling u a stor...</td>\n",
              "      <td>0</td>\n",
              "    </tr>\n",
              "    <tr>\n",
              "      <th>4799</th>\n",
              "      <td>#dontyouhate when funny jokes are over-used an...</td>\n",
              "      <td>0</td>\n",
              "    </tr>\n",
              "  </tbody>\n",
              "</table>\n",
              "<p>4800 rows × 2 columns</p>\n",
              "</div>\n",
              "    <div class=\"colab-df-buttons\">\n",
              "\n",
              "  <div class=\"colab-df-container\">\n",
              "    <button class=\"colab-df-convert\" onclick=\"convertToInteractive('df-04ed614e-3dae-4d2f-a7a7-46cdca995402')\"\n",
              "            title=\"Convert this dataframe to an interactive table.\"\n",
              "            style=\"display:none;\">\n",
              "\n",
              "  <svg xmlns=\"http://www.w3.org/2000/svg\" height=\"24px\" viewBox=\"0 -960 960 960\">\n",
              "    <path d=\"M120-120v-720h720v720H120Zm60-500h600v-160H180v160Zm220 220h160v-160H400v160Zm0 220h160v-160H400v160ZM180-400h160v-160H180v160Zm440 0h160v-160H620v160ZM180-180h160v-160H180v160Zm440 0h160v-160H620v160Z\"/>\n",
              "  </svg>\n",
              "    </button>\n",
              "\n",
              "  <style>\n",
              "    .colab-df-container {\n",
              "      display:flex;\n",
              "      gap: 12px;\n",
              "    }\n",
              "\n",
              "    .colab-df-convert {\n",
              "      background-color: #E8F0FE;\n",
              "      border: none;\n",
              "      border-radius: 50%;\n",
              "      cursor: pointer;\n",
              "      display: none;\n",
              "      fill: #1967D2;\n",
              "      height: 32px;\n",
              "      padding: 0 0 0 0;\n",
              "      width: 32px;\n",
              "    }\n",
              "\n",
              "    .colab-df-convert:hover {\n",
              "      background-color: #E2EBFA;\n",
              "      box-shadow: 0px 1px 2px rgba(60, 64, 67, 0.3), 0px 1px 3px 1px rgba(60, 64, 67, 0.15);\n",
              "      fill: #174EA6;\n",
              "    }\n",
              "\n",
              "    .colab-df-buttons div {\n",
              "      margin-bottom: 4px;\n",
              "    }\n",
              "\n",
              "    [theme=dark] .colab-df-convert {\n",
              "      background-color: #3B4455;\n",
              "      fill: #D2E3FC;\n",
              "    }\n",
              "\n",
              "    [theme=dark] .colab-df-convert:hover {\n",
              "      background-color: #434B5C;\n",
              "      box-shadow: 0px 1px 3px 1px rgba(0, 0, 0, 0.15);\n",
              "      filter: drop-shadow(0px 1px 2px rgba(0, 0, 0, 0.3));\n",
              "      fill: #FFFFFF;\n",
              "    }\n",
              "  </style>\n",
              "\n",
              "    <script>\n",
              "      const buttonEl =\n",
              "        document.querySelector('#df-04ed614e-3dae-4d2f-a7a7-46cdca995402 button.colab-df-convert');\n",
              "      buttonEl.style.display =\n",
              "        google.colab.kernel.accessAllowed ? 'block' : 'none';\n",
              "\n",
              "      async function convertToInteractive(key) {\n",
              "        const element = document.querySelector('#df-04ed614e-3dae-4d2f-a7a7-46cdca995402');\n",
              "        const dataTable =\n",
              "          await google.colab.kernel.invokeFunction('convertToInteractive',\n",
              "                                                    [key], {});\n",
              "        if (!dataTable) return;\n",
              "\n",
              "        const docLinkHtml = 'Like what you see? Visit the ' +\n",
              "          '<a target=\"_blank\" href=https://colab.research.google.com/notebooks/data_table.ipynb>data table notebook</a>'\n",
              "          + ' to learn more about interactive tables.';\n",
              "        element.innerHTML = '';\n",
              "        dataTable['output_type'] = 'display_data';\n",
              "        await google.colab.output.renderOutput(dataTable, element);\n",
              "        const docLink = document.createElement('div');\n",
              "        docLink.innerHTML = docLinkHtml;\n",
              "        element.appendChild(docLink);\n",
              "      }\n",
              "    </script>\n",
              "  </div>\n",
              "\n",
              "\n",
              "<div id=\"df-db1a1bfb-07ab-45be-a4e6-bdbd25c1fa0b\">\n",
              "  <button class=\"colab-df-quickchart\" onclick=\"quickchart('df-db1a1bfb-07ab-45be-a4e6-bdbd25c1fa0b')\"\n",
              "            title=\"Suggest charts\"\n",
              "            style=\"display:none;\">\n",
              "\n",
              "<svg xmlns=\"http://www.w3.org/2000/svg\" height=\"24px\"viewBox=\"0 0 24 24\"\n",
              "     width=\"24px\">\n",
              "    <g>\n",
              "        <path d=\"M19 3H5c-1.1 0-2 .9-2 2v14c0 1.1.9 2 2 2h14c1.1 0 2-.9 2-2V5c0-1.1-.9-2-2-2zM9 17H7v-7h2v7zm4 0h-2V7h2v10zm4 0h-2v-4h2v4z\"/>\n",
              "    </g>\n",
              "</svg>\n",
              "  </button>\n",
              "\n",
              "<style>\n",
              "  .colab-df-quickchart {\n",
              "      --bg-color: #E8F0FE;\n",
              "      --fill-color: #1967D2;\n",
              "      --hover-bg-color: #E2EBFA;\n",
              "      --hover-fill-color: #174EA6;\n",
              "      --disabled-fill-color: #AAA;\n",
              "      --disabled-bg-color: #DDD;\n",
              "  }\n",
              "\n",
              "  [theme=dark] .colab-df-quickchart {\n",
              "      --bg-color: #3B4455;\n",
              "      --fill-color: #D2E3FC;\n",
              "      --hover-bg-color: #434B5C;\n",
              "      --hover-fill-color: #FFFFFF;\n",
              "      --disabled-bg-color: #3B4455;\n",
              "      --disabled-fill-color: #666;\n",
              "  }\n",
              "\n",
              "  .colab-df-quickchart {\n",
              "    background-color: var(--bg-color);\n",
              "    border: none;\n",
              "    border-radius: 50%;\n",
              "    cursor: pointer;\n",
              "    display: none;\n",
              "    fill: var(--fill-color);\n",
              "    height: 32px;\n",
              "    padding: 0;\n",
              "    width: 32px;\n",
              "  }\n",
              "\n",
              "  .colab-df-quickchart:hover {\n",
              "    background-color: var(--hover-bg-color);\n",
              "    box-shadow: 0 1px 2px rgba(60, 64, 67, 0.3), 0 1px 3px 1px rgba(60, 64, 67, 0.15);\n",
              "    fill: var(--button-hover-fill-color);\n",
              "  }\n",
              "\n",
              "  .colab-df-quickchart-complete:disabled,\n",
              "  .colab-df-quickchart-complete:disabled:hover {\n",
              "    background-color: var(--disabled-bg-color);\n",
              "    fill: var(--disabled-fill-color);\n",
              "    box-shadow: none;\n",
              "  }\n",
              "\n",
              "  .colab-df-spinner {\n",
              "    border: 2px solid var(--fill-color);\n",
              "    border-color: transparent;\n",
              "    border-bottom-color: var(--fill-color);\n",
              "    animation:\n",
              "      spin 1s steps(1) infinite;\n",
              "  }\n",
              "\n",
              "  @keyframes spin {\n",
              "    0% {\n",
              "      border-color: transparent;\n",
              "      border-bottom-color: var(--fill-color);\n",
              "      border-left-color: var(--fill-color);\n",
              "    }\n",
              "    20% {\n",
              "      border-color: transparent;\n",
              "      border-left-color: var(--fill-color);\n",
              "      border-top-color: var(--fill-color);\n",
              "    }\n",
              "    30% {\n",
              "      border-color: transparent;\n",
              "      border-left-color: var(--fill-color);\n",
              "      border-top-color: var(--fill-color);\n",
              "      border-right-color: var(--fill-color);\n",
              "    }\n",
              "    40% {\n",
              "      border-color: transparent;\n",
              "      border-right-color: var(--fill-color);\n",
              "      border-top-color: var(--fill-color);\n",
              "    }\n",
              "    60% {\n",
              "      border-color: transparent;\n",
              "      border-right-color: var(--fill-color);\n",
              "    }\n",
              "    80% {\n",
              "      border-color: transparent;\n",
              "      border-right-color: var(--fill-color);\n",
              "      border-bottom-color: var(--fill-color);\n",
              "    }\n",
              "    90% {\n",
              "      border-color: transparent;\n",
              "      border-bottom-color: var(--fill-color);\n",
              "    }\n",
              "  }\n",
              "</style>\n",
              "\n",
              "  <script>\n",
              "    async function quickchart(key) {\n",
              "      const quickchartButtonEl =\n",
              "        document.querySelector('#' + key + ' button');\n",
              "      quickchartButtonEl.disabled = true;  // To prevent multiple clicks.\n",
              "      quickchartButtonEl.classList.add('colab-df-spinner');\n",
              "      try {\n",
              "        const charts = await google.colab.kernel.invokeFunction(\n",
              "            'suggestCharts', [key], {});\n",
              "      } catch (error) {\n",
              "        console.error('Error during call to suggestCharts:', error);\n",
              "      }\n",
              "      quickchartButtonEl.classList.remove('colab-df-spinner');\n",
              "      quickchartButtonEl.classList.add('colab-df-quickchart-complete');\n",
              "    }\n",
              "    (() => {\n",
              "      let quickchartButtonEl =\n",
              "        document.querySelector('#df-db1a1bfb-07ab-45be-a4e6-bdbd25c1fa0b button');\n",
              "      quickchartButtonEl.style.display =\n",
              "        google.colab.kernel.accessAllowed ? 'block' : 'none';\n",
              "    })();\n",
              "  </script>\n",
              "</div>\n",
              "    </div>\n",
              "  </div>\n"
            ],
            "application/vnd.google.colaboratory.intrinsic+json": {
              "type": "dataframe",
              "variable_name": "random_tweets_df",
              "summary": "{\n  \"name\": \"random_tweets_df\",\n  \"rows\": 4800,\n  \"fields\": [\n    {\n      \"column\": \"Tweet\",\n      \"properties\": {\n        \"dtype\": \"string\",\n        \"num_unique_values\": 4800,\n        \"samples\": [\n          \" awake...finally..random dream...i was a penguin but i lived in jersey and i oddly lived in a icecream store lolz \",\n          \" im the only one with an ipod full of pictures!\",\n          \" no more arrested development. i am sad.\"\n        ],\n        \"semantic_type\": \"\",\n        \"description\": \"\"\n      }\n    },\n    {\n      \"column\": \"Target\",\n      \"properties\": {\n        \"dtype\": \"number\",\n        \"std\": 0,\n        \"min\": 0,\n        \"max\": 0,\n        \"num_unique_values\": 1,\n        \"samples\": [\n          0\n        ],\n        \"semantic_type\": \"\",\n        \"description\": \"\"\n      }\n    }\n  ]\n}"
            }
          },
          "metadata": {}
        }
      ]
    },
    {
      "cell_type": "code",
      "source": [
        "import nltk\n",
        "nltk.download('stopwords')\n",
        "nltk.download('punkt')"
      ],
      "metadata": {
        "colab": {
          "base_uri": "https://localhost:8080/"
        },
        "id": "mlOzqpGpRKG3",
        "outputId": "3702367a-9fa5-4b5e-9f0a-52d160494dd7"
      },
      "execution_count": null,
      "outputs": [
        {
          "output_type": "stream",
          "name": "stderr",
          "text": [
            "[nltk_data] Downloading package stopwords to /root/nltk_data...\n",
            "[nltk_data]   Unzipping corpora/stopwords.zip.\n",
            "[nltk_data] Downloading package punkt to /root/nltk_data...\n",
            "[nltk_data]   Unzipping tokenizers/punkt.zip.\n"
          ]
        },
        {
          "output_type": "execute_result",
          "data": {
            "text/plain": [
              "True"
            ]
          },
          "metadata": {},
          "execution_count": 14
        }
      ]
    },
    {
      "cell_type": "code",
      "source": [
        "# Se extraen los tweets de las bases de datos anteriores\n",
        "depressive_tweets_arr = [x for x in depressive_tweets_df['Tweet']]\n",
        "random_tweets_arr = [x for x in random_tweets_df['Tweet']]\n",
        "\n",
        "# Se corre la función de limpieza de tweets en cada lista de tweets\n",
        "# Depresivos\n",
        "X_d = clean_tweets(depressive_tweets_arr)\n",
        "# Random\n",
        "X_r = clean_tweets(random_tweets_arr)\n",
        "\n",
        "\n",
        "tokenizer = Tokenizer(num_words=MAX_NB_WORDS)\n",
        "tokenizer.fit_on_texts(X_d + X_r)\n",
        "\n",
        "sequences_d = tokenizer.texts_to_sequences(X_d)\n",
        "sequences_r = tokenizer.texts_to_sequences(X_r)\n",
        "\n",
        "word_index = tokenizer.word_index\n",
        "print('Found %s unique tokens' % len(word_index))"
      ],
      "metadata": {
        "id": "qgdjM6YPUinp",
        "colab": {
          "base_uri": "https://localhost:8080/"
        },
        "outputId": "66f74228-41ef-44c6-ca1a-b53db6d0d804"
      },
      "execution_count": null,
      "outputs": [
        {
          "output_type": "stream",
          "name": "stdout",
          "text": [
            "Found 15200 unique tokens\n"
          ]
        }
      ]
    },
    {
      "cell_type": "code",
      "source": [
        "data_d = pad_sequences(sequences_d, maxlen=MAX_SEQUENCE_LENGTH)\n",
        "data_r = pad_sequences(sequences_r, maxlen=MAX_SEQUENCE_LENGTH)\n",
        "print('Shape of data_d tensor:', data_d.shape)\n",
        "print('Shape of data_r tensor:', data_r.shape)\n",
        "\n",
        "nb_words = min(MAX_NB_WORDS, len(word_index))\n",
        "\n",
        "embedding_matrix = np.zeros((nb_words, EMBEDDING_DIM))\n",
        "\n",
        "for (word, idx) in word_index.items():\n",
        "    if word in word2vec.index_to_key and idx < MAX_NB_WORDS:\n",
        "        embedding_matrix[idx-1] = word2vec.word_vec(word)\n",
        "\n",
        "labels_d = np.array([1] * len(data_d))\n",
        "labels_r = np.array([0] * len(data_r))"
      ],
      "metadata": {
        "id": "0Yh6d8eDVgFS",
        "colab": {
          "base_uri": "https://localhost:8080/"
        },
        "outputId": "dfb5b061-e0cc-4f38-bdb3-e737fe1a142a"
      },
      "execution_count": null,
      "outputs": [
        {
          "output_type": "stream",
          "name": "stdout",
          "text": [
            "Shape of data_d tensor: (3200, 140)\n",
            "Shape of data_r tensor: (4736, 140)\n"
          ]
        }
      ]
    },
    {
      "cell_type": "code",
      "source": [
        "print(embedding_matrix)"
      ],
      "metadata": {
        "colab": {
          "base_uri": "https://localhost:8080/"
        },
        "id": "RWEHm9BWjwd9",
        "outputId": "92512999-7f25-4edd-fe57-a03b74126868"
      },
      "execution_count": null,
      "outputs": [
        {
          "output_type": "stream",
          "name": "stdout",
          "text": [
            "[[-0.22558594 -0.01953125  0.09082031 ...  0.02819824 -0.17773438\n",
            "  -0.00604248]\n",
            " [-0.12158203 -0.17089844 -0.41601562 ...  0.2421875   0.2890625\n",
            "   0.02062988]\n",
            " [-0.27929688  0.03417969 -0.05151367 ... -0.00634766 -0.18554688\n",
            "   0.27148438]\n",
            " ...\n",
            " [-0.09082031  0.03112793 -0.0005188  ... -0.09716797  0.06689453\n",
            "   0.29882812]\n",
            " [-0.02185059  0.08251953  0.09179688 ... -0.46679688  0.10546875\n",
            "   0.03100586]\n",
            " [ 0.28515625 -0.08203125 -0.0559082  ... -0.29296875  0.34570312\n",
            "  -0.06103516]]\n"
          ]
        }
      ]
    },
    {
      "cell_type": "code",
      "source": [
        "depre_x_train, depre_x_test, depre_y_train, depre_y_test = train_test_split(data_d, labels_d, shuffle=False, test_size = 0.2)"
      ],
      "metadata": {
        "id": "mJNpbmghsoMV"
      },
      "execution_count": null,
      "outputs": []
    },
    {
      "cell_type": "code",
      "source": [
        "random_x_train, random_x_test, random_y_train, random_y_test = train_test_split(data_r, labels_r, shuffle=False, test_size = 0.2)"
      ],
      "metadata": {
        "id": "Wm4KVUZUw9dN"
      },
      "execution_count": null,
      "outputs": []
    },
    {
      "cell_type": "code",
      "source": [
        "print(depre_x_train)\n",
        "print(random_y_train)"
      ],
      "metadata": {
        "colab": {
          "base_uri": "https://localhost:8080/"
        },
        "id": "D6-qYc_Pu_p4",
        "outputId": "bcad57c7-e9f6-4341-e1ca-7cc71ad17af9"
      },
      "execution_count": null,
      "outputs": [
        {
          "output_type": "stream",
          "name": "stdout",
          "text": [
            "[[   0    0    0 ...   18  503 6043]\n",
            " [   0    0    0 ... 1115  208 3046]\n",
            " [   0    0    0 ... 3048   15  154]\n",
            " ...\n",
            " [   0    0    0 ...  548    1   21]\n",
            " [   0    0    0 ...   80   42    7]\n",
            " [   0    0    0 ...    3 2922 9810]]\n",
            "[0 0 0 ... 0 0 0]\n"
          ]
        }
      ]
    },
    {
      "cell_type": "code",
      "source": [
        "# Se concatenan los tweets depresivos y random del set de training\n",
        "data_train = np.concatenate((depre_x_train, random_x_train))\n",
        "print(\"esto es data_train\")\n",
        "print(data_train)\n",
        "labels_train = np.concatenate((depre_y_train, random_y_train))\n",
        "print(\"esto es labels_train\")\n",
        "print(labels_train)\n",
        "\n",
        "# Se concatenan los tweets depresivos y random del set de prueba\n",
        "data_test = np.concatenate((depre_x_test, random_x_test))\n",
        "print(\"esto es data_test\")\n",
        "print(data_test)\n",
        "labels_test = np.concatenate((depre_y_test, random_y_test))\n",
        "print(\"esto es labels_test\")\n",
        "print(labels_test)"
      ],
      "metadata": {
        "colab": {
          "base_uri": "https://localhost:8080/"
        },
        "id": "QSZKW3df7KbD",
        "outputId": "59aa449a-fbdf-4b48-98c5-190383587261"
      },
      "execution_count": null,
      "outputs": [
        {
          "output_type": "stream",
          "name": "stdout",
          "text": [
            "esto es data_train\n",
            "[[    0     0     0 ...    18   503  6043]\n",
            " [    0     0     0 ...  1115   208  3046]\n",
            " [    0     0     0 ...  3048    15   154]\n",
            " ...\n",
            " [    0     0     0 ...   935 14275    58]\n",
            " [    0     0     0 ...    36 14277  1417]\n",
            " [    0     0     0 ...   901    43    11]]\n",
            "esto es labels_train\n",
            "[1 1 1 ... 0 0 0]\n",
            "esto es data_test\n",
            "[[   0    0    0 ... 2511 1349 4228]\n",
            " [   0    0    0 ...   89    2  247]\n",
            " [   0    0    0 ...   48 9813  351]\n",
            " ...\n",
            " [   0    0    0 ... 4856 6042 1410]\n",
            " [   0    0    0 ... 1108   40   57]\n",
            " [   0    0    0 ...  404  726  851]]\n",
            "esto es labels_test\n",
            "[1 1 1 ... 0 0 0]\n"
          ]
        }
      ]
    },
    {
      "cell_type": "code",
      "source": [
        "# Se mezclan los tweets\n",
        "\n",
        "# de entrenamiento\n",
        "perm_train = np.random.permutation(len(data_train))\n",
        "data_train = data_train[perm_train]\n",
        "labels_train = labels_train[perm_train]\n",
        "\n",
        "# de prueba\n",
        "perm_test = np.random.permutation(len(data_test))\n",
        "data_test = data_test[perm_test]\n",
        "labels_test = labels_test[perm_test]"
      ],
      "metadata": {
        "id": "m0XJxmORkwUK"
      },
      "execution_count": null,
      "outputs": []
    },
    {
      "cell_type": "code",
      "source": [
        "print(\"Shape of data_train:\", data_train.shape)\n",
        "print(\"Shape of labels_train:\", labels_train.shape)\n",
        "print(\"Shape of data_test:\", data_test.shape)\n",
        "print(\"Shape of labels_test:\", labels_test.shape)"
      ],
      "metadata": {
        "colab": {
          "base_uri": "https://localhost:8080/"
        },
        "id": "mQDcFRc-M86k",
        "outputId": "c37f89f7-e08a-4378-cca7-9562988e7e16"
      },
      "execution_count": null,
      "outputs": [
        {
          "output_type": "stream",
          "name": "stdout",
          "text": [
            "Shape of data_train: (6348, 140)\n",
            "Shape of labels_train: (6348,)\n",
            "Shape of data_test: (1588, 140)\n",
            "Shape of labels_test: (1588,)\n"
          ]
        }
      ]
    },
    {
      "cell_type": "code",
      "source": [
        "print(data_train.shape)\n",
        "print(labels_train.shape)\n",
        "print(data_test.shape)\n",
        "print(labels_test.shape)"
      ],
      "metadata": {
        "colab": {
          "base_uri": "https://localhost:8080/"
        },
        "id": "vJ6vWmwLsqoz",
        "outputId": "a90a4495-b053-4cbb-cf5b-384105c85c17"
      },
      "execution_count": null,
      "outputs": [
        {
          "output_type": "stream",
          "name": "stdout",
          "text": [
            "(6348, 140)\n",
            "(6348,)\n",
            "(1588, 140)\n",
            "(1588,)\n"
          ]
        }
      ]
    },
    {
      "cell_type": "markdown",
      "source": [
        "## Crear el modelo\n",
        "---"
      ],
      "metadata": {
        "id": "OB8r6eBo8hNq"
      }
    },
    {
      "cell_type": "code",
      "source": [
        "model = tf.keras.Sequential([\n",
        "    layers.LSTM(64, input_shape=(140, 1), return_sequences=False),\n",
        "    layers.Dense(1, activation='sigmoid')\n",
        "])\n",
        "\n",
        "model.summary()"
      ],
      "metadata": {
        "colab": {
          "base_uri": "https://localhost:8080/"
        },
        "id": "7fcQrDLO9DNZ",
        "outputId": "37b8d4c0-9dce-4a8d-a2ec-01279a0d814e"
      },
      "execution_count": null,
      "outputs": [
        {
          "output_type": "stream",
          "name": "stdout",
          "text": [
            "Model: \"sequential_4\"\n",
            "_________________________________________________________________\n",
            " Layer (type)                Output Shape              Param #   \n",
            "=================================================================\n",
            " lstm_5 (LSTM)               (None, 64)                16896     \n",
            "                                                                 \n",
            " dense_4 (Dense)             (None, 1)                 65        \n",
            "                                                                 \n",
            "=================================================================\n",
            "Total params: 16961 (66.25 KB)\n",
            "Trainable params: 16961 (66.25 KB)\n",
            "Non-trainable params: 0 (0.00 Byte)\n",
            "_________________________________________________________________\n"
          ]
        }
      ]
    },
    {
      "cell_type": "markdown",
      "source": [
        "Las capas se apilan secuencialmente para construir el clasificar:\n",
        "1. Capa LSTM (Long Short-Term Memory) es una red neuronal recurrente (RNN) especializada en modelar dependencias temporales en secuencias de datos. En nuestro modelo, se configura con 64 unidades LSTM, lo que quiere decir que esta capa tiene 64 celdas LSTM trabajando juntas para procesar la secuencia de entrada.\n",
        "2. La salida se canaliza a través de una capa ( `Dense` ) con una sola unidad de salida, (ya que el modelo está diseñado para clasificación binaria). La función de activación utilizada aquí es la sigmoide."
      ],
      "metadata": {
        "id": "wdjbbJaH-_hJ"
      }
    },
    {
      "cell_type": "markdown",
      "source": [
        "Un modelo necesita una función de pérdida y un optimizador para el entrenamiento. Dado que se trata de un problema de clasificación binaria y el modelo genera una probabilidad (una capa de una sola unidad con una activación sigmoide), utilizará la función de pérdida [`losses.BinaryCrossentropy`](https://www.tensorflow.org/api_docs/python/tf/keras/losses/BinaryCrossentropy?hl=es-419).\n",
        "\\\n",
        "\\\n",
        "Ahora, configuramos el modelo para usar un optimizador y una función de pérdida:"
      ],
      "metadata": {
        "id": "1f8eMdCiDjtL"
      }
    },
    {
      "cell_type": "code",
      "source": [
        "model.compile(optimizer='adam', loss='binary_crossentropy', metrics=['accuracy'])"
      ],
      "metadata": {
        "id": "TR2M20TUFUkC"
      },
      "execution_count": null,
      "outputs": []
    },
    {
      "cell_type": "markdown",
      "source": [
        "## Entrenar el modelo\n",
        "---"
      ],
      "metadata": {
        "id": "b6GniYNLFYa7"
      }
    },
    {
      "cell_type": "code",
      "source": [
        "data_train_backup = data_train\n",
        "labels_train_backup = np.array(labels_train).T\n",
        "\n",
        "print(labels_train_backup)"
      ],
      "metadata": {
        "colab": {
          "base_uri": "https://localhost:8080/"
        },
        "id": "BkQRNYexfMyV",
        "outputId": "de37e4d3-29fb-47c1-f247-6373fe4222d4"
      },
      "execution_count": null,
      "outputs": [
        {
          "output_type": "stream",
          "name": "stdout",
          "text": [
            "[0 0 0 ... 0 0 0]\n"
          ]
        }
      ]
    },
    {
      "cell_type": "code",
      "source": [
        "print(data_train_backup.shape)\n",
        "print(labels_train_backup.shape)\n",
        "\n",
        "epochs = 10\n",
        "\n",
        "history = model.fit(\n",
        "    x=data_train_backup,\n",
        "    y=labels_train_backup,\n",
        "    validation_split=0.2,\n",
        "    epochs=epochs\n",
        ")"
      ],
      "metadata": {
        "colab": {
          "base_uri": "https://localhost:8080/"
        },
        "id": "uGbu4wzJGgKc",
        "outputId": "5756eb91-623e-4360-9e4b-c15aaafc1719"
      },
      "execution_count": null,
      "outputs": [
        {
          "output_type": "stream",
          "name": "stdout",
          "text": [
            "(6348, 140)\n",
            "(6348,)\n",
            "Epoch 1/10\n",
            "159/159 [==============================] - 16s 81ms/step - loss: 0.5186 - accuracy: 0.7361 - val_loss: 0.4257 - val_accuracy: 0.7992\n",
            "Epoch 2/10\n",
            "159/159 [==============================] - 11s 72ms/step - loss: 0.4368 - accuracy: 0.8023 - val_loss: 0.4038 - val_accuracy: 0.8220\n",
            "Epoch 3/10\n",
            "159/159 [==============================] - 10s 63ms/step - loss: 0.4128 - accuracy: 0.8115 - val_loss: 0.3758 - val_accuracy: 0.8543\n",
            "Epoch 4/10\n",
            "159/159 [==============================] - 12s 74ms/step - loss: 0.3829 - accuracy: 0.8371 - val_loss: 0.3476 - val_accuracy: 0.8748\n",
            "Epoch 5/10\n",
            "159/159 [==============================] - 12s 75ms/step - loss: 0.3486 - accuracy: 0.8631 - val_loss: 0.3196 - val_accuracy: 0.8913\n",
            "Epoch 6/10\n",
            "159/159 [==============================] - 12s 75ms/step - loss: 0.3141 - accuracy: 0.8824 - val_loss: 0.2992 - val_accuracy: 0.8913\n",
            "Epoch 7/10\n",
            "159/159 [==============================] - 10s 64ms/step - loss: 0.2934 - accuracy: 0.8990 - val_loss: 0.2734 - val_accuracy: 0.9126\n",
            "Epoch 8/10\n",
            "159/159 [==============================] - 11s 72ms/step - loss: 0.2673 - accuracy: 0.9135 - val_loss: 0.2486 - val_accuracy: 0.9331\n",
            "Epoch 9/10\n",
            "159/159 [==============================] - 12s 76ms/step - loss: 0.2564 - accuracy: 0.9183 - val_loss: 0.2595 - val_accuracy: 0.9181\n",
            "Epoch 10/10\n",
            "159/159 [==============================] - 12s 74ms/step - loss: 0.2386 - accuracy: 0.9301 - val_loss: 0.2228 - val_accuracy: 0.9441\n"
          ]
        }
      ]
    },
    {
      "cell_type": "markdown",
      "source": [
        "## Evaluar el modelo\n",
        "---"
      ],
      "metadata": {
        "id": "8YmU2s3AGktT"
      }
    },
    {
      "cell_type": "markdown",
      "source": [
        "Veamos cómo se comporta el modelo. se devolverán dos valores. Perdida (un número que representa nuestro error, los valores más bajos mejores) y precisión."
      ],
      "metadata": {
        "id": "MYm37BAAGpdO"
      }
    },
    {
      "cell_type": "code",
      "source": [
        "data_test_backup = data_test\n",
        "labels_test_backup = labels_test\n",
        "print(data_test_backup.shape)\n",
        "print(labels_test_backup.shape)"
      ],
      "metadata": {
        "id": "9_MU_GNjfbGN",
        "colab": {
          "base_uri": "https://localhost:8080/"
        },
        "outputId": "32270d95-0132-4a56-e993-210e6a0b7ac0"
      },
      "execution_count": null,
      "outputs": [
        {
          "output_type": "stream",
          "name": "stdout",
          "text": [
            "(1588, 140)\n",
            "(1588,)\n"
          ]
        }
      ]
    },
    {
      "cell_type": "code",
      "source": [
        "loss, accuracy = model.evaluate(data_test_backup, labels_test_backup)\n",
        "\n",
        "print(\"Loss: \", loss)\n",
        "print(\"Accuracy: \", accuracy)"
      ],
      "metadata": {
        "id": "a2wQdooXHKV0",
        "colab": {
          "base_uri": "https://localhost:8080/"
        },
        "outputId": "fde06138-4c4d-4d0e-abf4-6cf6d6fae169"
      },
      "execution_count": null,
      "outputs": [
        {
          "output_type": "stream",
          "name": "stdout",
          "text": [
            "50/50 [==============================] - 1s 20ms/step - loss: 0.2072 - accuracy: 0.9484\n",
            "Loss:  0.20723611116409302\n",
            "Accuracy:  0.9483627080917358\n"
          ]
        }
      ]
    },
    {
      "cell_type": "markdown",
      "source": [
        "## Gráfico de precisión y pérdida a lo largo del tiempo\n",
        "---"
      ],
      "metadata": {
        "id": "0deQOf4rHoxL"
      }
    },
    {
      "cell_type": "markdown",
      "source": [
        "`model.fit()` devuelve un objeto de `History` que contiene un diccionario con todo lo que sucedió durante el entrenamiento:"
      ],
      "metadata": {
        "id": "uzFmV_IYHwR9"
      }
    },
    {
      "cell_type": "code",
      "source": [
        "history_dict = history.history\n",
        "history_dict.keys()"
      ],
      "metadata": {
        "id": "RlqFHtNVIG60",
        "colab": {
          "base_uri": "https://localhost:8080/"
        },
        "outputId": "bd9e1561-1d13-4e91-cb1b-a946474272b2"
      },
      "execution_count": null,
      "outputs": [
        {
          "output_type": "execute_result",
          "data": {
            "text/plain": [
              "dict_keys(['loss', 'accuracy', 'val_loss', 'val_accuracy'])"
            ]
          },
          "metadata": {},
          "execution_count": 57
        }
      ]
    },
    {
      "cell_type": "markdown",
      "source": [
        "Hay cuatro entradas: una para cada métrica monitoreada durante el entrenamiento y la validación. Se pueden utilizar para trazar la pérdida de entrenamiento y validación para comparar, así como la precisión del entrenamiento y la validación:"
      ],
      "metadata": {
        "id": "Y4GsfrnYIVGq"
      }
    },
    {
      "cell_type": "code",
      "source": [
        "acc = history_dict['accuracy']\n",
        "val_acc = history_dict['val_accuracy']\n",
        "loss = history_dict['loss']\n",
        "val_loss = history_dict['val_loss']\n",
        "\n",
        "epochs = range(1, len(acc) + 1)\n",
        "\n",
        "# \"bo\" is for \"blue dot\"\n",
        "plt.plot(epochs, loss, 'bo', label='Training loss')\n",
        "# b is for \"solid blue line\"\n",
        "plt.plot(epochs, val_loss, 'b', label='Validation loss')\n",
        "plt.title('Training and validation loss')\n",
        "plt.xlabel('Epochs')\n",
        "plt.ylabel('Loss')\n",
        "plt.legend()\n",
        "\n",
        "plt.show()"
      ],
      "metadata": {
        "id": "Mx7axbiDIt28",
        "colab": {
          "base_uri": "https://localhost:8080/",
          "height": 492
        },
        "outputId": "8c380c0a-c02f-49a7-ff42-873ea55f9f22"
      },
      "execution_count": null,
      "outputs": [
        {
          "output_type": "display_data",
          "data": {
            "text/plain": [
              "<Figure size 640x480 with 1 Axes>"
            ],
            "image/png": "[encoded data removed]"
          },
          "metadata": {}
        }
      ]
    },
    {
      "cell_type": "code",
      "source": [
        "plt.plot(epochs, acc, 'bo', label='Training acc')\n",
        "plt.plot(epochs, val_acc, 'b', label='Validation acc')\n",
        "plt.title('Training and validation accuracy')\n",
        "plt.xlabel('Epochs')\n",
        "plt.ylabel('Accuracy')\n",
        "plt.legend(loc='lower right')\n",
        "\n",
        "plt.show()"
      ],
      "metadata": {
        "id": "dDln9CjzIylM",
        "colab": {
          "base_uri": "https://localhost:8080/",
          "height": 492
        },
        "outputId": "6a14750d-64ed-4524-c01d-b3206c1d8062"
      },
      "execution_count": null,
      "outputs": [
        {
          "output_type": "display_data",
          "data": {
            "text/plain": [
              "<Figure size 640x480 with 1 Axes>"
            ],
            "image/png": "[encoded data removed]"
          },
          "metadata": {}
        }
      ]
    },
    {
      "cell_type": "markdown",
      "source": [
        "En este gráfico, los puntos representan la pérdida y la precisión del entrenamiento, y las líneas sólidas con la pérdida y la precisión de la validación.\n",
        "\\\n",
        "\\\n",
        "Observe que la pérdida de entrenamiento _disminuye_ con cada época y la precisión del entrenamiento _aumenta_ con cada época. Esto se espera cuando se usa una optimización de descenso de gradiente: debería minimizar la cantidad deseada en cada iteración.\n",
        "\\\n",
        "\\\n",
        "Este no es el caso de la pérdida de validación y la precisión: parecen alcanzar su punto máximo antes que la precisión del entrenamiento. Este es un ejemplo de sobreajuste: el modelo funciona mejor con los datos de entrenamiento que con los datos que nunca antes había visto. Después de este punto, el modelo sobreoptimiza y aprende representaciones _específicas_ de los datos de entrenamiento que no se _generalizan_ a los daots de prueba.\n",
        "\\\n",
        "\\\n",
        "Para este caso particular, podría evitar el sobreajuste simplemente deteniendo el entrenamiento cuando la precisón de la validación ya no aumente. Una forma de hacerlo es utilizar la devolución de llamada `tf.keras.callbacks.EarlyStopping`."
      ],
      "metadata": {
        "id": "BZVyw_QYI4Xj"
      }
    }
  ]
}